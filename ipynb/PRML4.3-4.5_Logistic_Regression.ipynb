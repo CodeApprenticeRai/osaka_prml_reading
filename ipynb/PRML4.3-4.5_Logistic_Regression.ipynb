{
 "metadata": {
  "name": "",
  "signature": "sha256:b7ec3e1df0abf2e4fb24696e13f85dbe222c6baa0e0546d42c8c24f8e78fd55b"
 },
 "nbformat": 3,
 "nbformat_minor": 0,
 "worksheets": [
  {
   "cells": [
    {
     "cell_type": "code",
     "collapsed": false,
     "input": [
      "%matplotlib inline"
     ],
     "language": "python",
     "metadata": {},
     "outputs": [],
     "prompt_number": 1
    },
    {
     "cell_type": "code",
     "collapsed": false,
     "input": [
      "import numpy as np\n",
      "import scipy as sp\n",
      "import scipy.stats\n",
      "import matplotlib.pyplot as plt"
     ],
     "language": "python",
     "metadata": {},
     "outputs": [],
     "prompt_number": 2
    },
    {
     "cell_type": "code",
     "collapsed": false,
     "input": [
      "np.seterr(all='raise')"
     ],
     "language": "python",
     "metadata": {},
     "outputs": [
      {
       "metadata": {},
       "output_type": "pyout",
       "prompt_number": 3,
       "text": [
        "{'invalid': 'warn', 'divide': 'warn', 'under': 'ignore', 'over': 'warn'}"
       ]
      }
     ],
     "prompt_number": 3
    },
    {
     "cell_type": "code",
     "collapsed": false,
     "input": [
      "# \u30ed\u30b8\u30b9\u30c6\u30a3\u30c3\u30af\u30b7\u30b0\u30e2\u30a4\u30c9\u95a2\u6570\n",
      "sigmoid = np.vectorize(lambda x: 1.0 / (1.0 + np.exp(-x)))"
     ],
     "language": "python",
     "metadata": {},
     "outputs": [],
     "prompt_number": 4
    },
    {
     "cell_type": "code",
     "collapsed": false,
     "input": [
      "# \u30ed\u30b8\u30b9\u30c6\u30a3\u30c3\u30af\u56de\u5e30\u3067\u91cd\u307f\u30d9\u30af\u30c8\u30eb\u3092\u6c42\u3081\u308b\n",
      "# - \u5f15\u6570m0, S0inv\u3092\u4e0e\u3048\u308c\u3070\u6b63\u5247\u5316\u9805\u3042\u308a\u3001\u4e0e\u3048\u306a\u3051\u308c\u3070\u6b63\u5247\u5316\u9805\u306a\u3057\u3067\u8a08\u7b97\u3059\u308b\u3002\n",
      "# - \u5f15\u6570w_init\u3067\u7e70\u308a\u8fd4\u3057\u306e\u521d\u671f\u5024\u3092\u6307\u5b9a\u3067\u304d\u308b\u3002\n",
      "def logistic_regression(x, t, m0=None, S0inv=None, w_init=None, iter=100):\n",
      "    Phi = np.column_stack((np.ones(x.shape[0]), x))\n",
      "    n, dim = Phi.shape\n",
      "    if m0 is None: m0 = np.zeros(dim)\n",
      "    if S0inv is None: S0inv = np.zeros((dim, dim))\n",
      "    if w_init is None: w = np.zeros(dim)\n",
      "    else: w = w_init.copy()\n",
      "\n",
      "    history = [(0, w.copy())]\n",
      "    try:\n",
      "        for i in range(iter):\n",
      "            y = sigmoid(w.dot(Phi.T))\n",
      "            R = (y * (1 - y)).reshape((n, 1))\n",
      "            grad = Phi.T.dot(y - t) - S0inv.dot(w - m0)\n",
      "            H = Phi.T.dot(R * Phi) + S0inv\n",
      "            w -= sp.linalg.inv(H).dot(grad)\n",
      "            # \u2193\u3053\u308c\u3092\u5165\u308c\u306a\u3044\u3068\u3001\u6761\u4ef6\u306b\u3088\u3063\u3066overflow\u3084underflow\u304c\u8d77\u3053\u308b\u3002\n",
      "            # \u3000w\u306e\u7d76\u5bfe\u5024\u304c\u5927\u304d\u304f\u306a\u3089\u306a\u3051\u308c\u3070\u3001\u5206\u6bcd\u306f\u306a\u3093\u3067\u3082\u3088\u3044\uff1f\n",
      "            w /= np.linalg.norm(w)\n",
      "            history.append((i + 1, w.copy()))\n",
      "    except Exception as e:\n",
      "        return w, history, e\n",
      "    return w, history, None"
     ],
     "language": "python",
     "metadata": {},
     "outputs": [],
     "prompt_number": 5
    },
    {
     "cell_type": "code",
     "collapsed": false,
     "input": [
      "# \u30b0\u30e9\u30d5\u306e\u4f53\u88c1\u3092\u6574\u3048\u308b\n",
      "def arrange_plot():\n",
      "    ax = plt.gca()\n",
      "    ax.set_aspect(1)\n",
      "    plt.xlabel('$x_1$')\n",
      "    plt.ylabel('$x_2$')\n",
      "    plt.xlim(-4.0, 8.0)\n",
      "    plt.ylim(-4.0, 6.0)\n",
      "\n",
      "# \u30c7\u30fc\u30bf\u96c6\u5408\u3092\u30d7\u30ed\u30c3\u30c8\u3059\u308b\n",
      "def plot_data(x, t):\n",
      "    arrange_plot()\n",
      "    for i in range(x.shape[0]):\n",
      "        plt.scatter(x[i, 0], x[i, 1],\n",
      "                    color = ['red', 'blue'][int(t[i])],\n",
      "                    marker = ['x', 'o'][int(t[i])])\n",
      "\n",
      "# \u6c7a\u5b9a\u5883\u754c\u3092\u30d7\u30ed\u30c3\u30c8\u3059\u308b\n",
      "def plot_w(w, **kwargs):\n",
      "    xx = np.linspace(-4.0, 8.0, 100)\n",
      "    plt.plot(xx, np.vectorize(lambda x1: - (x1 * w[1] + w[0]) / w[2])(xx), **kwargs)"
     ],
     "language": "python",
     "metadata": {},
     "outputs": [],
     "prompt_number": 6
    },
    {
     "cell_type": "code",
     "collapsed": false,
     "input": [
      "# \u30c7\u30fc\u30bf\u96c6\u5408 \u305d\u306e1\n",
      "N = 50\n",
      "np.random.seed(0)\n",
      "t_1 = np.r_[np.ones(N),\n",
      "            np.zeros(N)]\n",
      "x_1 = np.r_[sp.stats.multivariate_normal.rvs([2.0, 0.0], [[3.0, 0.8], [0.8, 0.5]], N),\n",
      "            sp.stats.multivariate_normal.rvs([-1.0, 3.0], [[3.0, 0.8], [0.8, 0.5]], N)]"
     ],
     "language": "python",
     "metadata": {},
     "outputs": [],
     "prompt_number": 7
    },
    {
     "cell_type": "code",
     "collapsed": false,
     "input": [
      "# \u30c7\u30fc\u30bf\u96c6\u5408 \u305d\u306e2\n",
      "# \u305d\u306e1\u3068\u4e71\u6570\u306e\u7a2e\u3060\u3051\u304c\u7570\u306a\u308b\u3002\n",
      "N = 50\n",
      "np.random.seed(1)\n",
      "t_2 = np.r_[np.ones(N),\n",
      "            np.zeros(N)]\n",
      "x_2 = np.r_[sp.stats.multivariate_normal.rvs([2.0, 0.0], [[3.0, 0.8], [0.8, 0.5]], N),\n",
      "            sp.stats.multivariate_normal.rvs([-1.0, 3.0], [[3.0, 0.8], [0.8, 0.5]], N)]"
     ],
     "language": "python",
     "metadata": {},
     "outputs": [],
     "prompt_number": 8
    },
    {
     "cell_type": "code",
     "collapsed": false,
     "input": [
      "plot_data(x_1, t_1)"
     ],
     "language": "python",
     "metadata": {},
     "outputs": [
      {
       "metadata": {},
       "output_type": "display_data",
       "png": "[encoded data removed]",
       "text": [
        "<matplotlib.figure.Figure at 0x70f5c18>"
       ]
      }
     ],
     "prompt_number": 9
    },
    {
     "cell_type": "code",
     "collapsed": false,
     "input": [
      "plot_data(x_2, t_2)"
     ],
     "language": "python",
     "metadata": {},
     "outputs": [
      {
       "metadata": {},
       "output_type": "display_data",
       "png": "[encoded data removed]",
       "text": [
        "<matplotlib.figure.Figure at 0x7520908>"
       ]
      }
     ],
     "prompt_number": 10
    },
    {
     "cell_type": "code",
     "collapsed": false,
     "input": [
      "# \u30c6\u30b9\u30c8\u7528\u30d1\u30e9\u30e1\u30fc\u30bf\n",
      "ws = [np.array([0.0, 0.0, -1.0]),\n",
      "      np.array([0.0, 0.5, -1.0]),\n",
      "      np.array([1.0, 0.5, -1.0]),\n",
      "      np.array([1.0, 1.0, -1.0])]\n",
      "m0s = [np.array([0.0, 0.0, -1.0]),\n",
      "       np.array([0.0, 0.5, -1.0]),\n",
      "       np.array([1.0, 0.5, -1.0]),\n",
      "       np.array([1.0, 1.0, -1.0])]\n",
      "I = np.identity(ws[0].shape[0])\n",
      "\n",
      "colors = ['r', 'g', 'b', 'y']"
     ],
     "language": "python",
     "metadata": {},
     "outputs": [],
     "prompt_number": 11
    },
    {
     "cell_type": "code",
     "collapsed": false,
     "input": [
      "# \u30c6\u30b9\u30c8\u7528\u95a2\u6570\n",
      "def test(x, t, c, m0=None, S0inv=None, w_init=None, iter=100):\n",
      "    w, history, e = logistic_regression(x, t, m0=m0, S0inv=S0inv, w_init=w_init, iter=iter)\n",
      "\n",
      "    plot_w(w, color=c)\n",
      "    if m0 is not None: plot_w(m0, color=c, linestyle='--')\n",
      "\n",
      "    print(\"w_init = \", w_init, \"m0 = \", m0)\n",
      "    for (i, w_hist) in history[-5:]:\n",
      "        print(i, w_hist, - w_hist / w_hist[2])\n",
      "    if e: print(e)\n",
      "    print()"
     ],
     "language": "python",
     "metadata": {},
     "outputs": [],
     "prompt_number": 12
    },
    {
     "cell_type": "markdown",
     "metadata": {},
     "source": [
      "# \u30c6\u30b9\u30c81\n",
      "\n",
      "- \u6b63\u5247\u5316\u9805\u306a\u3057\u3002\n",
      "- w\u306e\u521d\u671f\u5024\u3092\u3044\u308d\u3044\u308d\u5909\u3048\u3066\u307f\u308b\u3002"
     ]
    },
    {
     "cell_type": "code",
     "collapsed": false,
     "input": [
      "# \u30c7\u30fc\u30bf\u96c6\u5408\u305d\u306e1\u306e\u5834\u5408\n",
      "plot_data(x_1, t_1)\n",
      "for w_init, c in zip(ws, colors):\n",
      "    test(x_1, t_1, c, w_init=w_init, iter=100)"
     ],
     "language": "python",
     "metadata": {},
     "outputs": [
      {
       "output_type": "stream",
       "stream": "stdout",
       "text": [
        "w_init =  [ 0.  0. -1.] m0 =  None\n",
        "96 [ 0.79746007  0.19689326 -0.57034242] [ 1.39821281  0.34521939 -1.        ]\n",
        "97 [ 0.79746007  0.19689326 -0.57034242] [ 1.39821281  0.34521939 -1.        ]\n",
        "98 [ 0.79746007  0.19689326 -0.57034242] [ 1.39821281  0.34521939 -1.        ]\n",
        "99 [ 0.79746007  0.19689326 -0.57034242] [ 1.39821281  0.34521939 -1.        ]\n",
        "100 [ 0.79746007  0.19689326 -0.57034242] [ 1.39821281  0.34521939 -1.        ]\n",
        "\n",
        "w_init =  [ 0.   0.5 -1. ] m0 =  None\n",
        "96 [ 0.79746007  0.19689326 -0.57034242]"
       ]
      },
      {
       "output_type": "stream",
       "stream": "stdout",
       "text": [
        " [ 1.39821281  0.34521939 -1.        ]\n",
        "97 [ 0.79746007  0.19689326 -0.57034242] [ 1.39821281  0.34521939 -1.        ]\n",
        "98 [ 0.79746007  0.19689326 -0.57034242] [ 1.39821281  0.34521939 -1.        ]\n",
        "99 [ 0.79746007  0.19689326 -0.57034242] [ 1.39821281  0.34521939 -1.        ]\n",
        "100 [ 0.79746007  0.19689326 -0.57034242] [ 1.39821281  0.34521939 -1.        ]\n",
        "\n",
        "w_init = "
       ]
      },
      {
       "output_type": "stream",
       "stream": "stdout",
       "text": [
        " [ 1.   0.5 -1. ] m0 =  None\n",
        "96 [ 0.79746007  0.19689326 -0.57034242] [ 1.39821281  0.34521939 -1.        ]\n",
        "97 [ 0.79746007  0.19689326 -0.57034242] [ 1.39821281  0.34521939 -1.        ]\n",
        "98 [ 0.79746007  0.19689326 -0.57034242] [ 1.39821281  0.34521939 -1.        ]\n",
        "99 [ 0.79746007  0.19689326 -0.57034242] [ 1.39821281  0.34521939 -1.        ]\n",
        "100 [ 0.79746007  0.19689326 -0.57034242] [ 1.39821281  0.34521939 -1.        ]\n",
        "\n",
        "w_init = "
       ]
      },
      {
       "output_type": "stream",
       "stream": "stdout",
       "text": [
        " [ 1.  1. -1.] m0 =  None\n",
        "96 [ 0.79746007  0.19689326 -0.57034242] [ 1.39821281  0.34521939 -1.        ]\n",
        "97 [ 0.79746007  0.19689326 -0.57034242] [ 1.39821281  0.34521939 -1.        ]\n",
        "98 [ 0.79746007  0.19689326 -0.57034242] [ 1.39821281  0.34521939 -1.        ]\n",
        "99 [ 0.79746007  0.19689326 -0.57034242] [ 1.39821281  0.34521939 -1.        ]\n",
        "100 [ 0.79746007  0.19689326 -0.57034242] [ 1.39821281  0.34521939 -1.        ]\n",
        "\n"
       ]
      },
      {
       "metadata": {},
       "output_type": "display_data",
       "png": "[encoded data removed]",
       "text": [
        "<matplotlib.figure.Figure at 0x74cb5f8>"
       ]
      }
     ],
     "prompt_number": 13
    },
    {
     "cell_type": "code",
     "collapsed": false,
     "input": [
      "# \u30c7\u30fc\u30bf\u96c6\u5408\u305d\u306e2\u306e\u5834\u5408\n",
      "plot_data(x_2, t_2)\n",
      "for w_init, c in zip(ws, colors):\n",
      "    test(x_2, t_2, c, w_init=w_init, iter=100)"
     ],
     "language": "python",
     "metadata": {},
     "outputs": [
      {
       "output_type": "stream",
       "stream": "stdout",
       "text": [
        "w_init =  [ 0.  0. -1.] m0 =  None\n",
        "96 [ 0.77476288  0.24319724 -0.58360739] [ 1.32754124  0.41671378 -1.        ]\n",
        "97 [ 0.77476288  0.24319724 -0.58360739] [ 1.32754124  0.41671378 -1.        ]\n",
        "98 [ 0.77476288  0.24319724 -0.58360739] [ 1.32754124  0.41671378 -1.        ]\n",
        "99 [ 0.77476288  0.24319724 -0.58360739] [ 1.32754124  0.41671378 -1.        ]\n",
        "100 [ 0.77476288  0.24319724 -0.58360739] [ 1.32754124  0.41671378 -1.        ]\n",
        "\n",
        "w_init = "
       ]
      },
      {
       "output_type": "stream",
       "stream": "stdout",
       "text": [
        " [ 0.   0.5 -1. ] m0 =  None\n",
        "96 [ 0.77476288  0.24319724 -0.58360739] [ 1.32754124  0.41671378 -1.        ]\n",
        "97 [ 0.77476288  0.24319724 -0.58360739] [ 1.32754124  0.41671378 -1.        ]\n",
        "98 [ 0.77476288  0.24319724 -0.58360739] [ 1.32754124  0.41671378 -1.        ]\n",
        "99 [ 0.77476288  0.24319724 -0.58360739] [ 1.32754124  0.41671378 -1.        ]\n",
        "100 [ 0.77476288  0.24319724 -0.58360739] [ 1.32754124  0.41671378 -1.        ]\n",
        "\n",
        "w_init = "
       ]
      },
      {
       "output_type": "stream",
       "stream": "stdout",
       "text": [
        " [ 1.   0.5 -1. ] m0 =  None\n",
        "96 [ 0.77476288  0.24319724 -0.58360739] [ 1.32754124  0.41671378 -1.        ]\n",
        "97 [ 0.77476288  0.24319724 -0.58360739] [ 1.32754124  0.41671378 -1.        ]\n",
        "98 [ 0.77476288  0.24319724 -0.58360739] [ 1.32754124  0.41671378 -1.        ]\n",
        "99 [ 0.77476288  0.24319724 -0.58360739] [ 1.32754124  0.41671378 -1.        ]\n",
        "100 [ 0.77476288  0.24319724 -0.58360739] [ 1.32754124  0.41671378 -1.        ]\n",
        "\n",
        "w_init = "
       ]
      },
      {
       "output_type": "stream",
       "stream": "stdout",
       "text": [
        " [ 1.  1. -1.] m0 =  None\n",
        "96 [ 0.77476288  0.24319724 -0.58360739] [ 1.32754124  0.41671378 -1.        ]\n",
        "97 [ 0.77476288  0.24319724 -0.58360739] [ 1.32754124  0.41671378 -1.        ]\n",
        "98 [ 0.77476288  0.24319724 -0.58360739] [ 1.32754124  0.41671378 -1.        ]\n",
        "99 [ 0.77476288  0.24319724 -0.58360739] [ 1.32754124  0.41671378 -1.        ]\n",
        "100 [ 0.77476288  0.24319724 -0.58360739] [ 1.32754124  0.41671378 -1.        ]\n",
        "\n"
       ]
      },
      {
       "metadata": {},
       "output_type": "display_data",
       "png": "[encoded data removed]",
       "text": [
        "<matplotlib.figure.Figure at 0x768e7f0>"
       ]
      }
     ],
     "prompt_number": 14
    },
    {
     "cell_type": "markdown",
     "metadata": {},
     "source": [
      "# \u30c6\u30b9\u30c82\n",
      "- \u6b63\u5247\u5316\u9805\u3042\u308a\u3002\n",
      "- \u6b63\u5247\u5316\u30d1\u30e9\u30e1\u30fc\u30bf\u306f\u540c\u3058\u3067\u3001w\u306e\u521d\u671f\u5024\u3092\u3044\u308d\u3044\u308d\u5909\u3048\u3066\u307f\u308b\u3002"
     ]
    },
    {
     "cell_type": "code",
     "collapsed": false,
     "input": [
      "# \u30c7\u30fc\u30bf\u96c6\u5408\u305d\u306e1\u306e\u5834\u5408\n",
      "plot_data(x_1, t_1)\n",
      "for w_init, c in zip(ws, colors):\n",
      "    test(x_1, t_1, c, w_init=w_init, m0=m0s[0], S0inv=I, iter=100)"
     ],
     "language": "python",
     "metadata": {},
     "outputs": [
      {
       "output_type": "stream",
       "stream": "stdout",
       "text": [
        "w_init =  [ 0.  0. -1.] m0 =  [ 0.  0. -1.]\n",
        "96 [ 0.7930967   0.20874799 -0.57220792] [ 1.38602886  0.36481143 -1.        ]\n",
        "97 [ 0.7930967   0.20874799 -0.57220792] [ 1.38602886  0.36481143 -1.        ]\n",
        "98 [ 0.7930967   0.20874799 -0.57220792] [ 1.38602886  0.36481143 -1.        ]\n",
        "99 [ 0.7930967   0.20874799 -0.57220792] [ 1.38602886  0.36481143 -1.        ]\n",
        "100 [ 0.7930967   0.20874799 -0.57220792] [ 1.38602886  0.36481143 -1.        ]\n",
        "\n",
        "w_init = "
       ]
      },
      {
       "output_type": "stream",
       "stream": "stdout",
       "text": [
        " [ 0.   0.5 -1. ] m0 =  [ 0.  0. -1.]\n",
        "96 [ 0.7930967   0.20874799 -0.57220792] [ 1.38602886  0.36481143 -1.        ]\n",
        "97 [ 0.7930967   0.20874799 -0.57220792] [ 1.38602886  0.36481143 -1.        ]\n",
        "98 [ 0.7930967   0.20874799 -0.57220792] [ 1.38602886  0.36481143 -1.        ]\n",
        "99 [ 0.7930967   0.20874799 -0.57220792] [ 1.38602886  0.36481143 -1.        ]\n",
        "100 [ 0.7930967   0.20874799 -0.57220792] [ 1.38602886  0.36481143 -1.        ]\n",
        "\n",
        "w_init = "
       ]
      },
      {
       "output_type": "stream",
       "stream": "stdout",
       "text": [
        " [ 1.   0.5 -1. ] m0 =  [ 0.  0. -1.]\n",
        "96 [ 0.7930967   0.20874799 -0.57220792] [ 1.38602886  0.36481143 -1.        ]\n",
        "97 [ 0.7930967   0.20874799 -0.57220792] [ 1.38602886  0.36481143 -1.        ]\n",
        "98 [ 0.7930967   0.20874799 -0.57220792] [ 1.38602886  0.36481143 -1.        ]\n",
        "99 [ 0.7930967   0.20874799 -0.57220792] [ 1.38602886  0.36481143 -1.        ]\n",
        "100 [ 0.7930967   0.20874799 -0.57220792] [ 1.38602886  0.36481143 -1.        ]\n",
        "\n",
        "w_init = "
       ]
      },
      {
       "output_type": "stream",
       "stream": "stdout",
       "text": [
        " [ 1.  1. -1.] m0 =  [ 0.  0. -1.]\n",
        "96 [ 0.7930967   0.20874799 -0.57220792] [ 1.38602886  0.36481143 -1.        ]\n",
        "97 [ 0.7930967   0.20874799 -0.57220792] [ 1.38602886  0.36481143 -1.        ]\n",
        "98 [ 0.7930967   0.20874799 -0.57220792] [ 1.38602886  0.36481143 -1.        ]\n",
        "99 [ 0.7930967   0.20874799 -0.57220792] [ 1.38602886  0.36481143 -1.        ]\n",
        "100 [ 0.7930967   0.20874799 -0.57220792] [ 1.38602886  0.36481143 -1.        ]\n",
        "\n"
       ]
      },
      {
       "metadata": {},
       "output_type": "display_data",
       "png": "[encoded data removed]",
       "text": [
        "<matplotlib.figure.Figure at 0x78069e8>"
       ]
      }
     ],
     "prompt_number": 15
    },
    {
     "cell_type": "code",
     "collapsed": false,
     "input": [
      "# \u30c7\u30fc\u30bf\u96c6\u5408\u305d\u306e2\u306e\u5834\u5408\n",
      "plot_data(x_2, t_2)\n",
      "for w_init, c in zip(ws, colors):\n",
      "    test(x_2, t_2, c, w_init=w_init, m0=m0s[0], S0inv=I, iter=100)"
     ],
     "language": "python",
     "metadata": {},
     "outputs": [
      {
       "output_type": "stream",
       "stream": "stdout",
       "text": [
        "w_init =  [ 0.  0. -1.] m0 =  [ 0.  0. -1.]\n",
        "96 [ 0.77049992  0.26052199 -0.58177158] [ 1.32440281  0.44780804 -1.        ]\n",
        "97 [ 0.77049992  0.26052199 -0.58177158] [ 1.32440281  0.44780804 -1.        ]\n",
        "98 [ 0.77049992  0.26052199 -0.58177158] [ 1.32440281  0.44780804 -1.        ]\n",
        "99 [ 0.77049992  0.26052199 -0.58177158] [ 1.32440281  0.44780804 -1.        ]\n",
        "100 [ 0.77049992  0.26052199 -0.58177158] [ 1.32440281  0.44780804 -1.        ]\n",
        "\n",
        "w_init = "
       ]
      },
      {
       "output_type": "stream",
       "stream": "stdout",
       "text": [
        " [ 0.   0.5 -1. ] m0 =  [ 0.  0. -1.]\n",
        "96 [ 0.77049992  0.26052199 -0.58177158] [ 1.32440281  0.44780804 -1.        ]\n",
        "97 [ 0.77049992  0.26052199 -0.58177158] [ 1.32440281  0.44780804 -1.        ]\n",
        "98 [ 0.77049992  0.26052199 -0.58177158] [ 1.32440281  0.44780804 -1.        ]\n",
        "99 [ 0.77049992  0.26052199 -0.58177158] [ 1.32440281  0.44780804 -1.        ]\n",
        "100 [ 0.77049992  0.26052199 -0.58177158] [ 1.32440281  0.44780804 -1.        ]\n",
        "\n",
        "w_init = "
       ]
      },
      {
       "output_type": "stream",
       "stream": "stdout",
       "text": [
        " [ 1.   0.5 -1. ] m0 =  [ 0.  0. -1.]\n",
        "96 [ 0.77049992  0.26052199 -0.58177158] [ 1.32440281  0.44780804 -1.        ]\n",
        "97 [ 0.77049992  0.26052199 -0.58177158] [ 1.32440281  0.44780804 -1.        ]\n",
        "98 [ 0.77049992  0.26052199 -0.58177158] [ 1.32440281  0.44780804 -1.        ]\n",
        "99 [ 0.77049992  0.26052199 -0.58177158] [ 1.32440281  0.44780804 -1.        ]\n",
        "100 [ 0.77049992  0.26052199 -0.58177158] [ 1.32440281  0.44780804 -1.        ]\n",
        "\n",
        "w_init = "
       ]
      },
      {
       "output_type": "stream",
       "stream": "stdout",
       "text": [
        " [ 1.  1. -1.] m0 =  [ 0.  0. -1.]\n",
        "96 [ 0.77049992  0.26052199 -0.58177158] [ 1.32440281  0.44780804 -1.        ]\n",
        "97 [ 0.77049992  0.26052199 -0.58177158] [ 1.32440281  0.44780804 -1.        ]\n",
        "98 [ 0.77049992  0.26052199 -0.58177158] [ 1.32440281  0.44780804 -1.        ]\n",
        "99 [ 0.77049992  0.26052199 -0.58177158] [ 1.32440281  0.44780804 -1.        ]\n",
        "100 [ 0.77049992  0.26052199 -0.58177158] [ 1.32440281  0.44780804 -1.        ]\n",
        "\n"
       ]
      },
      {
       "metadata": {},
       "output_type": "display_data",
       "png": "[encoded data removed]",
       "text": [
        "<matplotlib.figure.Figure at 0x769f710>"
       ]
      }
     ],
     "prompt_number": 16
    },
    {
     "cell_type": "markdown",
     "metadata": {},
     "source": [
      "# \u30c6\u30b9\u30c83\n",
      "- \u6b63\u5247\u5316\u9805\u3042\u308a\u3002\n",
      "- w\u306e\u521d\u671f\u5024\u306f\u540c\u3058\u3067\u3001\u6b63\u5247\u5316\u30d1\u30e9\u30e1\u30fc\u30bf\u3092\u3044\u308d\u3044\u308d\u5909\u3048\u3066\u307f\u308b\u3002"
     ]
    },
    {
     "cell_type": "code",
     "collapsed": false,
     "input": [
      "# \u30c7\u30fc\u30bf\u96c6\u5408\u305d\u306e1\u306e\u5834\u5408\n",
      "plot_data(x_1, t_1)\n",
      "for m0, c in zip(m0s, colors):\n",
      "    test(x_1, t_1, c, w_init=ws[0], m0=m0, S0inv=I, iter=100)"
     ],
     "language": "python",
     "metadata": {},
     "outputs": [
      {
       "output_type": "stream",
       "stream": "stdout",
       "text": [
        "w_init =  [ 0.  0. -1.] m0 =  [ 0.  0. -1.]\n",
        "96 [ 0.7930967   0.20874799 -0.57220792] [ 1.38602886  0.36481143 -1.        ]\n",
        "97 [ 0.7930967   0.20874799 -0.57220792] [ 1.38602886  0.36481143 -1.        ]\n",
        "98 [ 0.7930967   0.20874799 -0.57220792] [ 1.38602886  0.36481143 -1.        ]\n",
        "99 [ 0.7930967   0.20874799 -0.57220792] [ 1.38602886  0.36481143 -1.        ]\n",
        "100 [ 0.7930967   0.20874799 -0.57220792] [ 1.38602886  0.36481143 -1.        ]\n",
        "\n",
        "w_init = "
       ]
      },
      {
       "output_type": "stream",
       "stream": "stdout",
       "text": [
        " [ 0.  0. -1.] m0 =  [ 0.   0.5 -1. ]\n",
        "96 [ 0.79487108  0.2032928  -0.57170972] [ 1.39034034  0.35558744 -1.        ]\n",
        "97 [ 0.79487108  0.2032928  -0.57170972] [ 1.39034034  0.35558744 -1.        ]\n",
        "98 [ 0.79487108  0.2032928  -0.57170972] [ 1.39034034  0.35558744 -1.        ]\n",
        "99 [ 0.79487108  0.2032928  -0.57170972] [ 1.39034034  0.35558744 -1.        ]\n",
        "100 [ 0.79487108  0.2032928  -0.57170972] [ 1.39034034  0.35558744 -1.        ]\n",
        "\n",
        "w_init = "
       ]
      },
      {
       "output_type": "stream",
       "stream": "stdout",
       "text": [
        " [ 0.  0. -1.] m0 =  [ 1.   0.5 -1. ]\n",
        "96 [ 0.77177583  0.23222255 -0.59197529] [ 1.30372981  0.39228419 -1.        ]\n",
        "97 [ 0.77177583  0.23222255 -0.59197529] [ 1.30372981  0.39228419 -1.        ]\n",
        "98 [ 0.77177583  0.23222255 -0.59197529] [ 1.30372981  0.39228419 -1.        ]\n",
        "99 [ 0.77177583  0.23222255 -0.59197529] [ 1.30372981  0.39228419 -1.        ]\n",
        "100 [ 0.77177583  0.23222255 -0.59197529] [ 1.30372981  0.39228419 -1.        ]\n",
        "\n",
        "w_init = "
       ]
      },
      {
       "output_type": "stream",
       "stream": "stdout",
       "text": [
        " [ 0.  0. -1.] m0 =  [ 1.  1. -1.]\n",
        "96 [ 0.7741929   0.22586143 -0.59127994] [ 1.30935087  0.38198731 -1.        ]\n",
        "97 [ 0.7741929   0.22586143 -0.59127994] [ 1.30935087  0.38198731 -1.        ]\n",
        "98 [ 0.7741929   0.22586143 -0.59127994] [ 1.30935087  0.38198731 -1.        ]\n",
        "99 [ 0.7741929   0.22586143 -0.59127994] [ 1.30935087  0.38198731 -1.        ]\n",
        "100 [ 0.7741929   0.22586143 -0.59127994] [ 1.30935087  0.38198731 -1.        ]\n",
        "\n"
       ]
      },
      {
       "metadata": {},
       "output_type": "display_data",
       "png": "[encoded data removed]",
       "text": [
        "<matplotlib.figure.Figure at 0x7364b00>"
       ]
      }
     ],
     "prompt_number": 17
    },
    {
     "cell_type": "code",
     "collapsed": false,
     "input": [
      "# \u30c7\u30fc\u30bf\u96c6\u5408\u305d\u306e2\u306e\u5834\u5408\n",
      "plot_data(x_2, t_2)\n",
      "for m0, c in zip(m0s, colors):\n",
      "    test(x_2, t_2, c, w_init=ws[0], m0=m0, S0inv=I, iter=100)"
     ],
     "language": "python",
     "metadata": {},
     "outputs": [
      {
       "output_type": "stream",
       "stream": "stdout",
       "text": [
        "w_init =  [ 0.  0. -1.] m0 =  [ 0.  0. -1.]\n",
        "96 [ 0.77049992  0.26052199 -0.58177158] [ 1.32440281  0.44780804 -1.        ]\n",
        "97 [ 0.77049992  0.26052199 -0.58177158] [ 1.32440281  0.44780804 -1.        ]\n",
        "98 [ 0.77049992  0.26052199 -0.58177158] [ 1.32440281  0.44780804 -1.        ]\n",
        "99 [ 0.77049992  0.26052199 -0.58177158] [ 1.32440281  0.44780804 -1.        ]\n",
        "100 [ 0.77049992  0.26052199 -0.58177158] [ 1.32440281  0.44780804 -1.        ]\n",
        "\n",
        "w_init = "
       ]
      },
      {
       "output_type": "stream",
       "stream": "stdout",
       "text": [
        " [ 0.  0. -1.] m0 =  [ 0.   0.5 -1. ]\n",
        "96 [ 0.77265872  0.25241095 -0.58248366] [ 1.32648994  0.43333568 -1.        ]\n",
        "97 [ 0.77265872  0.25241095 -0.58248366] [ 1.32648994  0.43333568 -1.        ]\n",
        "98 [ 0.77265872  0.25241095 -0.58248366] [ 1.32648994  0.43333568 -1.        ]\n",
        "99 [ 0.77265872  0.25241095 -0.58248366] [ 1.32648994  0.43333568 -1.        ]\n",
        "100 [ 0.77265872  0.25241095 -0.58248366] [ 1.32648994  0.43333568 -1.        ]\n",
        "\n",
        "w_init = "
       ]
      },
      {
       "output_type": "stream",
       "stream": "stdout",
       "text": [
        " [ 0.  0. -1.] m0 =  [ 1.   0.5 -1. ]\n",
        "96 [ 0.74439323  0.29154394 -0.60073359] [ 1.23914034  0.48531319 -1.        ]\n",
        "97 [ 0.74439323  0.29154394 -0.60073359] [ 1.23914034  0.48531319 -1.        ]\n",
        "98 [ 0.74439323  0.29154394 -0.60073359] [ 1.23914034  0.48531319 -1.        ]\n",
        "99 [ 0.74439323  0.29154394 -0.60073359] [ 1.23914034  0.48531319 -1.        ]\n",
        "100 [ 0.74439323  0.29154394 -0.60073359] [ 1.23914034  0.48531319 -1.        ]\n",
        "\n",
        "w_init = "
       ]
      },
      {
       "output_type": "stream",
       "stream": "stdout",
       "text": [
        " [ 0.  0. -1.] m0 =  [ 1.  1. -1.]\n",
        "96 [ 0.74760584  0.28190876 -0.60134264] [ 1.24322773  0.46879888 -1.        ]\n",
        "97 [ 0.74760584  0.28190876 -0.60134264] [ 1.24322773  0.46879888 -1.        ]\n",
        "98 [ 0.74760584  0.28190876 -0.60134264] [ 1.24322773  0.46879888 -1.        ]\n",
        "99 [ 0.74760584  0.28190876 -0.60134264] [ 1.24322773  0.46879888 -1.        ]\n",
        "100 [ 0.74760584  0.28190876 -0.60134264] [ 1.24322773  0.46879888 -1.        ]\n",
        "\n"
       ]
      },
      {
       "metadata": {},
       "output_type": "display_data",
       "png": "[encoded data removed]",
       "text": [
        "<matplotlib.figure.Figure at 0x75d95f8>"
       ]
      }
     ],
     "prompt_number": 18
    }
   ],
   "metadata": {}
  }
 ]
}